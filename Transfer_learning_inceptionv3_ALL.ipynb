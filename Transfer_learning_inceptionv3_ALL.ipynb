{
  "nbformat": 4,
  "nbformat_minor": 0,
  "metadata": {
    "colab": {
      "name": "Transfer learning inceptionv3 ALL.ipynb",
      "private_outputs": true,
      "provenance": [],
      "collapsed_sections": []
    },
    "kernelspec": {
      "name": "python3",
      "display_name": "Python 3"
    },
    "language_info": {
      "name": "python"
    }
  },
  "cells": [
    {
      "cell_type": "code",
      "execution_count": null,
      "metadata": {
        "id": "JtXnftegPKzg"
      },
      "outputs": [],
      "source": [
        "# Import all the necessary files!\n",
        "import os\n",
        "!pip install tensorflow\n",
        "import tensorflow as tf\n",
        "from tensorflow.keras import layers\n",
        "from tensorflow.keras import Model\n",
        "\n"
      ]
    },
    {
      "cell_type": "code",
      "source": [
        "# Download the inception v3 weights\n",
        "\n",
        "!wget --no-check-certificate \\\n",
        "    https://storage.googleapis.com/mledu-datasets/inception_v3_weights_tf_dim_ordering_tf_kernels_notop.h5 \\\n",
        "    -O /tmp/inception_v3_weights_tf_dim_ordering_tf_kernels_notop.h5\n"
      ],
      "metadata": {
        "id": "pLOkKAX7PSox"
      },
      "execution_count": null,
      "outputs": []
    },
    {
      "cell_type": "code",
      "source": [
        "from tensorflow.keras.applications.inception_v3 import InceptionV3\n",
        "\n",
        "# Create an instance of the inception model from the local pre-trained weights\n",
        "local_weights_file = '/tmp/inception_v3_weights_tf_dim_ordering_tf_kernels_notop.h5'\n"
      ],
      "metadata": {
        "id": "l_3NcW1JPppF"
      },
      "execution_count": null,
      "outputs": []
    },
    {
      "cell_type": "code",
      "source": [
        "local_weights_file\n"
      ],
      "metadata": {
        "id": "2libDWo2QCzl"
      },
      "execution_count": null,
      "outputs": []
    },
    {
      "cell_type": "code",
      "source": [
        "pre_trained_model = InceptionV3(input_shape = (150, 150, 3), \n",
        "                                include_top = False, \n",
        "                                weights = None)\n",
        "\n",
        "pre_trained_model.load_weights(local_weights_file)"
      ],
      "metadata": {
        "id": "wCR6IWGrQN89"
      },
      "execution_count": null,
      "outputs": []
    },
    {
      "cell_type": "code",
      "source": [
        "# Make all the layers in the pre-trained model non-trainable\n",
        "for layer in pre_trained_model.layers:\n",
        "  layer.trainable = False\n",
        "  "
      ],
      "metadata": {
        "id": "T84_J4sAQYAi"
      },
      "execution_count": null,
      "outputs": []
    },
    {
      "cell_type": "code",
      "source": [
        "# Print the model summary\n",
        "pre_trained_model.summary()"
      ],
      "metadata": {
        "id": "jt4gPZRqQZ4J"
      },
      "execution_count": null,
      "outputs": []
    },
    {
      "cell_type": "code",
      "source": [
        "last_layer = pre_trained_model.get_layer('mixed7')\n",
        "print('last layer output shape: ', last_layer.output_shape)\n",
        "last_output = last_layer.output\n",
        "\n",
        "# Expected Output:\n",
        "# ('last layer output shape: ', (None, 7, 7, 768))\n",
        "('last layer output shape: ', (None, 7, 7, 768))"
      ],
      "metadata": {
        "id": "kuaVB1kEQdPU"
      },
      "execution_count": null,
      "outputs": []
    },
    {
      "cell_type": "code",
      "source": [
        "# Define a Callback class that stops training once accuracy reaches 99.9%\n",
        "class myCallback(tf.keras.callbacks.Callback):\n",
        "  def on_epoch_end(self, epoch, logs={}):\n",
        "    if(logs.get('acc')>0.999):\n",
        "      print(\"\\nReached 99.9% accuracy so cancelling training!\")\n",
        "      self.model.stop_training = True\n"
      ],
      "metadata": {
        "id": "G3C1aMYDRaK_"
      },
      "execution_count": null,
      "outputs": []
    },
    {
      "cell_type": "code",
      "source": [
        "from tensorflow.keras.optimizers import RMSprop\n",
        "\n",
        "# Flatten the output layer to 1 dimension\n",
        "x = layers.Flatten()(last_output)\n",
        "# Add a fully connected layer with 1,024 hidden units and ReLU activation\n",
        "x = layers.Dense(1024, activation='relu')(x)\n",
        "# Add a dropout rate of 0.2\n",
        "x = layers.Dropout(0.2)(x)                  \n",
        "# Add a final sigmoid layer for classification\n",
        "x = layers.Dense  (1, activation='sigmoid')(x)           \n",
        "\n",
        "model = Model( pre_trained_model.input, x) \n",
        "\n",
        "model.compile(optimizer = RMSprop(lr=0.0001), \n",
        "              loss = 'binary_crossentropy', \n",
        "              metrics = ['acc'])\n",
        "\n",
        "model.summary()"
      ],
      "metadata": {
        "id": "5uhM8Y_zRf5F"
      },
      "execution_count": null,
      "outputs": []
    },
    {
      "cell_type": "code",
      "source": [
        "train_dir = '/content/drive/MyDrive/base dir/train'\n",
        "validation_dir = '/content/drive/MyDrive/base dir/validation'\n",
        "train_all_dir = os.path.join(train_dir, 'all') # Directory with our training horse pictures\n",
        "train_no_all_dir = os.path.join(train_dir, 'noall') # Directory with our training humans pictures\n",
        "validation_all_dir = os.path.join(validation_dir, 'all') # Directory with our validation horse pictures\n",
        "validation_no_all_dir = os.path.join(validation_dir, 'noall')# Directory with our validation humanas pictures\n",
        "\n",
        "train_all_fnames = os.listdir(train_all_dir)\n",
        "train_no_all_fnames = os.listdir(train_no_all_dir)\n",
        "validation_all_fnames = os.listdir(validation_all_dir)\n",
        "validation_no_all_fnames = os.listdir(validation_no_all_dir)\n",
        "\n",
        "print(len(train_all_fnames))\n",
        "print(len(train_no_all_fnames))\n",
        "print(len(validation_all_fnames))\n",
        "print(len(validation_no_all_fnames))"
      ],
      "metadata": {
        "id": "XOVHhAqHSMai"
      },
      "execution_count": null,
      "outputs": []
    },
    {
      "cell_type": "code",
      "source": [
        "from keras.preprocessing.image import ImageDataGenerator\n",
        "# Add our data-augmentation parameters to ImageDataGenerator\n",
        "train_datagen = ImageDataGenerator(rescale = 1./255.,\n",
        "                                   rotation_range = 40,\n",
        "                                   width_shift_range = 0.2,\n",
        "                                   height_shift_range = 0.2,\n",
        "                                   shear_range = 0.2,\n",
        "                                   zoom_range = 0.2,\n",
        "                                   horizontal_flip = True)\n",
        "\n",
        "# Note that the validation data should not be augmented!\n",
        "test_datagen = ImageDataGenerator( rescale = 1.0/255. )\n",
        "\n",
        "# Flow training images in batches of 20 using train_datagen generator\n",
        "train_generator = train_datagen.flow_from_directory(train_dir,\n",
        "                                                    batch_size = 20,\n",
        "                                                    class_mode = 'binary', \n",
        "                                                    target_size = (150, 150))     \n",
        "\n",
        "# Flow validation images in batches of 20 using test_datagen generator\n",
        "validation_generator =  test_datagen.flow_from_directory( validation_dir,\n",
        "                                                          batch_size  = 7,\n",
        "                                                          class_mode  = 'binary', \n",
        "                                                          target_size = (150, 150))\n"
      ],
      "metadata": {
        "id": "c3PseFkITI98"
      },
      "execution_count": null,
      "outputs": []
    },
    {
      "cell_type": "code",
      "source": [
        "# Run this and see how many epochs it should take before the callback\n",
        "# fires, and stops training at 99.9% accuracy\n",
        "# (It should take less than 100 epochs)\n",
        "callbacks = myCallback()\n",
        "history = model.fit(\n",
        "            train_generator,\n",
        "            validation_data = validation_generator,\n",
        "            epochs = 100,\n",
        "            steps_per_epoch=int(217/20),\n",
        "            validation_steps=None,\n",
        "            verbose = 2,\n",
        "            callbacks=[callbacks])"
      ],
      "metadata": {
        "id": "2cOH_edFTOz7"
      },
      "execution_count": null,
      "outputs": []
    },
    {
      "cell_type": "code",
      "source": [
        "import matplotlib.pyplot as plt\n",
        "acc = history.history['acc']\n",
        "val_acc = history.history['val_acc']\n",
        "loss = history.history['loss']\n",
        "val_loss = history.history['val_loss']\n",
        "\n",
        "epochs = range(len(acc))\n",
        "\n",
        "plt.plot(epochs, acc, 'r', label='Training accuracy')\n",
        "plt.plot(epochs, val_acc, 'b', label='Validation accuracy')\n",
        "plt.title('Training and validation accuracy')\n",
        "plt.legend(loc=0)\n",
        "plt.figure()\n",
        "\n",
        "\n",
        "plt.show()\n",
        "\n",
        "# <Figure size 576x396 with 0 Axes>"
      ],
      "metadata": {
        "id": "a98S6K34TYum"
      },
      "execution_count": null,
      "outputs": []
    },
    {
      "cell_type": "code",
      "source": [
        "## CODE BLOCK FOR NON-SAFARI BROWSERS\n",
        "## SAFARI USERS: PLEASE SKIP THIS BLOCK AND RUN THE NEXT ONE INSTEAD\n",
        "\n",
        "import numpy as np\n",
        "\n",
        "from google.colab import files\n",
        "from keras.preprocessing import image\n",
        "\n",
        "uploaded=files.upload()\n",
        "\n",
        "for fn in uploaded.keys():\n",
        " \n",
        "   #predicting images\n",
        "   path='/content/' + fn\n",
        "   img=image.load_img(path, target_size=(150, 150))\n",
        "  \n",
        "   x=image.img_to_array(img)\n",
        "   x /= 255\n",
        "   x=np.expand_dims(x, axis=0)\n",
        "   images = np.vstack([x])\n",
        "  \n",
        "   classes = model.predict(images, batch_size=10)\n",
        "\n",
        "  \n",
        "   print(classes[0])\n",
        "  \n",
        "   if classes[0]<0.5:\n",
        "     print(fn + \" is a ALL\")\n",
        "   else:\n",
        "     print(fn + \" is a no ALL\")\n",
        "\n",
        " "
      ],
      "metadata": {
        "id": "dh9D_0f7Skhr"
      },
      "execution_count": null,
      "outputs": []
    }
  ]
}